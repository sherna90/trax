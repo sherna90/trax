{
 "cells": [
  {
   "cell_type": "code",
   "execution_count": 8,
   "metadata": {},
   "outputs": [],
   "source": [
    "import pandas as pd\n",
    "import matplotlib.pyplot as plt"
   ]
  },
  {
   "cell_type": "code",
   "execution_count": 9,
   "metadata": {},
   "outputs": [],
   "source": [
    "import glob \n",
    "\n",
    "path = 'data/PRSA_Data_20130301-20170228/'\n",
    "csv_files = glob.glob(path + \"/*.csv\")\n",
    "\n",
    "# Read each CSV file into DataFrame\n",
    "# This creates a list of dataframes\n",
    "df_list = [pd.read_csv(file) for file in csv_files]"
   ]
  },
  {
   "cell_type": "code",
   "execution_count": 10,
   "metadata": {},
   "outputs": [],
   "source": [
    "def pre_process(df):\n",
    "    df['date_time']=pd.to_datetime(df[['year', 'month', 'day','hour']])\n",
    "    df.drop(columns=['year', 'month', 'day','hour','No'],inplace=True)\n",
    "    df.set_index('date_time',inplace=True)\n",
    "    return df"
   ]
  },
  {
   "cell_type": "code",
   "execution_count": 11,
   "metadata": {},
   "outputs": [],
   "source": [
    "df_preprocessed=[pre_process(df) for df in df_list]"
   ]
  },
  {
   "cell_type": "code",
   "execution_count": 39,
   "metadata": {},
   "outputs": [
    {
     "data": {
      "text/html": [
       "<div>\n",
       "<style scoped>\n",
       "    .dataframe tbody tr th:only-of-type {\n",
       "        vertical-align: middle;\n",
       "    }\n",
       "\n",
       "    .dataframe tbody tr th {\n",
       "        vertical-align: top;\n",
       "    }\n",
       "\n",
       "    .dataframe thead th {\n",
       "        text-align: right;\n",
       "    }\n",
       "</style>\n",
       "<table border=\"1\" class=\"dataframe\">\n",
       "  <thead>\n",
       "    <tr style=\"text-align: right;\">\n",
       "      <th></th>\n",
       "      <th>PM2.5</th>\n",
       "      <th>PM10</th>\n",
       "      <th>SO2</th>\n",
       "      <th>NO2</th>\n",
       "      <th>CO</th>\n",
       "      <th>O3</th>\n",
       "      <th>TEMP</th>\n",
       "      <th>PRES</th>\n",
       "      <th>DEWP</th>\n",
       "      <th>RAIN</th>\n",
       "      <th>wd</th>\n",
       "      <th>WSPM</th>\n",
       "      <th>station</th>\n",
       "    </tr>\n",
       "    <tr>\n",
       "      <th>date_time</th>\n",
       "      <th></th>\n",
       "      <th></th>\n",
       "      <th></th>\n",
       "      <th></th>\n",
       "      <th></th>\n",
       "      <th></th>\n",
       "      <th></th>\n",
       "      <th></th>\n",
       "      <th></th>\n",
       "      <th></th>\n",
       "      <th></th>\n",
       "      <th></th>\n",
       "      <th></th>\n",
       "    </tr>\n",
       "  </thead>\n",
       "  <tbody>\n",
       "    <tr>\n",
       "      <th>2013-03-01 00:00:00</th>\n",
       "      <td>6.0</td>\n",
       "      <td>18.0</td>\n",
       "      <td>5.0</td>\n",
       "      <td>NaN</td>\n",
       "      <td>800.0</td>\n",
       "      <td>88.0</td>\n",
       "      <td>0.1</td>\n",
       "      <td>1021.1</td>\n",
       "      <td>-18.6</td>\n",
       "      <td>0.0</td>\n",
       "      <td>NW</td>\n",
       "      <td>4.4</td>\n",
       "      <td>Gucheng</td>\n",
       "    </tr>\n",
       "    <tr>\n",
       "      <th>2013-03-01 01:00:00</th>\n",
       "      <td>6.0</td>\n",
       "      <td>15.0</td>\n",
       "      <td>5.0</td>\n",
       "      <td>NaN</td>\n",
       "      <td>800.0</td>\n",
       "      <td>88.0</td>\n",
       "      <td>-0.3</td>\n",
       "      <td>1021.5</td>\n",
       "      <td>-19.0</td>\n",
       "      <td>0.0</td>\n",
       "      <td>NW</td>\n",
       "      <td>4.0</td>\n",
       "      <td>Gucheng</td>\n",
       "    </tr>\n",
       "    <tr>\n",
       "      <th>2013-03-01 02:00:00</th>\n",
       "      <td>5.0</td>\n",
       "      <td>18.0</td>\n",
       "      <td>NaN</td>\n",
       "      <td>NaN</td>\n",
       "      <td>700.0</td>\n",
       "      <td>52.0</td>\n",
       "      <td>-0.7</td>\n",
       "      <td>1021.5</td>\n",
       "      <td>-19.8</td>\n",
       "      <td>0.0</td>\n",
       "      <td>WNW</td>\n",
       "      <td>4.6</td>\n",
       "      <td>Gucheng</td>\n",
       "    </tr>\n",
       "    <tr>\n",
       "      <th>2013-03-01 03:00:00</th>\n",
       "      <td>6.0</td>\n",
       "      <td>20.0</td>\n",
       "      <td>6.0</td>\n",
       "      <td>NaN</td>\n",
       "      <td>NaN</td>\n",
       "      <td>NaN</td>\n",
       "      <td>-1.0</td>\n",
       "      <td>1022.7</td>\n",
       "      <td>-21.2</td>\n",
       "      <td>0.0</td>\n",
       "      <td>W</td>\n",
       "      <td>2.8</td>\n",
       "      <td>Gucheng</td>\n",
       "    </tr>\n",
       "    <tr>\n",
       "      <th>2013-03-01 04:00:00</th>\n",
       "      <td>5.0</td>\n",
       "      <td>17.0</td>\n",
       "      <td>5.0</td>\n",
       "      <td>NaN</td>\n",
       "      <td>600.0</td>\n",
       "      <td>73.0</td>\n",
       "      <td>-1.3</td>\n",
       "      <td>1023.0</td>\n",
       "      <td>-21.4</td>\n",
       "      <td>0.0</td>\n",
       "      <td>WNW</td>\n",
       "      <td>3.6</td>\n",
       "      <td>Gucheng</td>\n",
       "    </tr>\n",
       "    <tr>\n",
       "      <th>...</th>\n",
       "      <td>...</td>\n",
       "      <td>...</td>\n",
       "      <td>...</td>\n",
       "      <td>...</td>\n",
       "      <td>...</td>\n",
       "      <td>...</td>\n",
       "      <td>...</td>\n",
       "      <td>...</td>\n",
       "      <td>...</td>\n",
       "      <td>...</td>\n",
       "      <td>...</td>\n",
       "      <td>...</td>\n",
       "      <td>...</td>\n",
       "    </tr>\n",
       "    <tr>\n",
       "      <th>2017-02-28 19:00:00</th>\n",
       "      <td>14.0</td>\n",
       "      <td>58.0</td>\n",
       "      <td>4.0</td>\n",
       "      <td>19.0</td>\n",
       "      <td>500.0</td>\n",
       "      <td>56.0</td>\n",
       "      <td>12.8</td>\n",
       "      <td>1009.9</td>\n",
       "      <td>-17.0</td>\n",
       "      <td>0.0</td>\n",
       "      <td>NNW</td>\n",
       "      <td>3.1</td>\n",
       "      <td>Gucheng</td>\n",
       "    </tr>\n",
       "    <tr>\n",
       "      <th>2017-02-28 20:00:00</th>\n",
       "      <td>27.0</td>\n",
       "      <td>83.0</td>\n",
       "      <td>6.0</td>\n",
       "      <td>60.0</td>\n",
       "      <td>700.0</td>\n",
       "      <td>26.0</td>\n",
       "      <td>11.1</td>\n",
       "      <td>1010.4</td>\n",
       "      <td>-15.5</td>\n",
       "      <td>0.0</td>\n",
       "      <td>NW</td>\n",
       "      <td>1.9</td>\n",
       "      <td>Gucheng</td>\n",
       "    </tr>\n",
       "    <tr>\n",
       "      <th>2017-02-28 21:00:00</th>\n",
       "      <td>22.0</td>\n",
       "      <td>37.0</td>\n",
       "      <td>7.0</td>\n",
       "      <td>52.0</td>\n",
       "      <td>600.0</td>\n",
       "      <td>27.0</td>\n",
       "      <td>10.5</td>\n",
       "      <td>1010.8</td>\n",
       "      <td>-15.9</td>\n",
       "      <td>0.0</td>\n",
       "      <td>N</td>\n",
       "      <td>2.3</td>\n",
       "      <td>Gucheng</td>\n",
       "    </tr>\n",
       "    <tr>\n",
       "      <th>2017-02-28 22:00:00</th>\n",
       "      <td>9.0</td>\n",
       "      <td>23.0</td>\n",
       "      <td>3.0</td>\n",
       "      <td>13.0</td>\n",
       "      <td>400.0</td>\n",
       "      <td>57.0</td>\n",
       "      <td>8.9</td>\n",
       "      <td>1010.9</td>\n",
       "      <td>-14.9</td>\n",
       "      <td>0.0</td>\n",
       "      <td>NE</td>\n",
       "      <td>1.6</td>\n",
       "      <td>Gucheng</td>\n",
       "    </tr>\n",
       "    <tr>\n",
       "      <th>2017-02-28 23:00:00</th>\n",
       "      <td>12.0</td>\n",
       "      <td>48.0</td>\n",
       "      <td>5.0</td>\n",
       "      <td>48.0</td>\n",
       "      <td>600.0</td>\n",
       "      <td>28.0</td>\n",
       "      <td>6.2</td>\n",
       "      <td>1010.5</td>\n",
       "      <td>-13.4</td>\n",
       "      <td>0.0</td>\n",
       "      <td>NNE</td>\n",
       "      <td>0.7</td>\n",
       "      <td>Gucheng</td>\n",
       "    </tr>\n",
       "  </tbody>\n",
       "</table>\n",
       "<p>35064 rows × 13 columns</p>\n",
       "</div>"
      ],
      "text/plain": [
       "                     PM2.5  PM10  SO2   NO2     CO    O3  TEMP    PRES  DEWP  \\\n",
       "date_time                                                                      \n",
       "2013-03-01 00:00:00    6.0  18.0  5.0   NaN  800.0  88.0   0.1  1021.1 -18.6   \n",
       "2013-03-01 01:00:00    6.0  15.0  5.0   NaN  800.0  88.0  -0.3  1021.5 -19.0   \n",
       "2013-03-01 02:00:00    5.0  18.0  NaN   NaN  700.0  52.0  -0.7  1021.5 -19.8   \n",
       "2013-03-01 03:00:00    6.0  20.0  6.0   NaN    NaN   NaN  -1.0  1022.7 -21.2   \n",
       "2013-03-01 04:00:00    5.0  17.0  5.0   NaN  600.0  73.0  -1.3  1023.0 -21.4   \n",
       "...                    ...   ...  ...   ...    ...   ...   ...     ...   ...   \n",
       "2017-02-28 19:00:00   14.0  58.0  4.0  19.0  500.0  56.0  12.8  1009.9 -17.0   \n",
       "2017-02-28 20:00:00   27.0  83.0  6.0  60.0  700.0  26.0  11.1  1010.4 -15.5   \n",
       "2017-02-28 21:00:00   22.0  37.0  7.0  52.0  600.0  27.0  10.5  1010.8 -15.9   \n",
       "2017-02-28 22:00:00    9.0  23.0  3.0  13.0  400.0  57.0   8.9  1010.9 -14.9   \n",
       "2017-02-28 23:00:00   12.0  48.0  5.0  48.0  600.0  28.0   6.2  1010.5 -13.4   \n",
       "\n",
       "                     RAIN   wd  WSPM  station  \n",
       "date_time                                      \n",
       "2013-03-01 00:00:00   0.0   NW   4.4  Gucheng  \n",
       "2013-03-01 01:00:00   0.0   NW   4.0  Gucheng  \n",
       "2013-03-01 02:00:00   0.0  WNW   4.6  Gucheng  \n",
       "2013-03-01 03:00:00   0.0    W   2.8  Gucheng  \n",
       "2013-03-01 04:00:00   0.0  WNW   3.6  Gucheng  \n",
       "...                   ...  ...   ...      ...  \n",
       "2017-02-28 19:00:00   0.0  NNW   3.1  Gucheng  \n",
       "2017-02-28 20:00:00   0.0   NW   1.9  Gucheng  \n",
       "2017-02-28 21:00:00   0.0    N   2.3  Gucheng  \n",
       "2017-02-28 22:00:00   0.0   NE   1.6  Gucheng  \n",
       "2017-02-28 23:00:00   0.0  NNE   0.7  Gucheng  \n",
       "\n",
       "[35064 rows x 13 columns]"
      ]
     },
     "execution_count": 39,
     "metadata": {},
     "output_type": "execute_result"
    }
   ],
   "source": [
    "df_preprocessed[0]"
   ]
  },
  {
   "cell_type": "code",
   "execution_count": 12,
   "metadata": {},
   "outputs": [],
   "source": [
    "df_group=pd.concat(df_preprocessed)"
   ]
  },
  {
   "cell_type": "code",
   "execution_count": 13,
   "metadata": {},
   "outputs": [],
   "source": [
    "def train_test_split(data,split_fraction,feature_keys):\n",
    "    data=data[feature_keys]\n",
    "    train_split = int(split_fraction * int(data.shape[0]))\n",
    "    data_mean = data[:train_split].mean(axis=0)\n",
    "    data_std = data[:train_split].std(axis=0)\n",
    "    data = (data - data_mean) / data_std\n",
    "    train_data = data.iloc[0 : train_split - 1]\n",
    "    val_data = data.iloc[train_split:]\n",
    "    return train_data,val_data\n",
    "\n",
    "def create_batch(data,lag,future):\n",
    "    df_lag=pd.concat([data[:-future].shift(i) for i in range(lag-1,-1,-1)],axis=1).dropna()\n",
    "    #df_lag.columns=['pm_'+str(i) for i in range(lag,-1,1)]\n",
    "    X=df_lag.values\n",
    "    y=data[future+lag-1:].values\n",
    "    return X,y\n",
    "\n",
    "def create_batch_multistep(data,lag,future):\n",
    "    df_lag=pd.concat([data[:-future].shift(i) for i in range(lag-1,-1,-1)],axis=1).dropna()\n",
    "    df_future=pd.concat([data[lag-1:].shift(-i) for i in range(1,future+1)],axis=1).dropna()\n",
    "    #df_lag.columns=['pm_'+str(i) for i in range(lag,-1,1)]\n",
    "    X=df_lag.values\n",
    "    y=df_future.values\n",
    "    return X,y"
   ]
  },
  {
   "cell_type": "code",
   "execution_count": 42,
   "metadata": {},
   "outputs": [],
   "source": [
    "import numpy as np \n",
    "\n",
    "split_fraction = 0.8\n",
    "feature_keys = ['PM2.5','TEMP']\n",
    "X_train_datasets=list()\n",
    "y_train_datasets=list()\n",
    "X_test_datasets=list()\n",
    "y_test_datasets=list()\n",
    "future=6\n",
    "past=6\n",
    "dataset_names=list()\n",
    "for item_id, gdf in df_group.groupby('station'):\n",
    "    gdf.fillna(method='ffill',inplace=True)\n",
    "    train,test=train_test_split(gdf,split_fraction,feature_keys)\n",
    "    X_train,y_train=create_batch_multistep(train,past,future)\n",
    "    X_test,y_test=create_batch_multistep(test,past,future)\n",
    "    X_train_datasets.append(X_train)\n",
    "    y_train_datasets.append(y_train)\n",
    "    X_test_datasets.append(X_test)\n",
    "    y_test_datasets.append(y_test)\n",
    "    dataset_names.append(item_id)\n",
    "X_train_datasets=np.stack(X_train_datasets,axis=0)\n",
    "y_train_datasets=np.stack(y_train_datasets,axis=0)\n",
    "X_test_datasets=np.stack(X_test_datasets,axis=0)\n",
    "y_test_datasets=np.stack(y_test_datasets,axis=0)"
   ]
  },
  {
   "cell_type": "code",
   "execution_count": 41,
   "metadata": {},
   "outputs": [
    {
     "data": {
      "text/plain": [
       "(12, 28039, 6)"
      ]
     },
     "execution_count": 41,
     "metadata": {},
     "output_type": "execute_result"
    }
   ],
   "source": [
    "y_train_datasets.shape"
   ]
  },
  {
   "cell_type": "code",
   "execution_count": 19,
   "metadata": {},
   "outputs": [],
   "source": [
    "import jax \n",
    "import jax.numpy as jnp \n",
    "\n",
    "def get_dataloader(X,y,batch_size,key,axis=0):\n",
    "    num_train=X.shape[axis]\n",
    "    indices = jnp.array(list(range(0,num_train)))\n",
    "    indices=jax.random.permutation(key,indices)\n",
    "    for i in range(0, len(indices),batch_size):\n",
    "        batch_indices = jnp.array(indices[i: i+batch_size])\n",
    "        yield X[:,batch_indices,:], y[:,batch_indices]"
   ]
  },
  {
   "cell_type": "code",
   "execution_count": 20,
   "metadata": {},
   "outputs": [],
   "source": [
    "import optax\n",
    "from flax import linen as nn\n",
    "from functools import partial\n",
    "\n",
    "class LSTM(nn.Module):\n",
    "\n",
    "    @nn.remat    \n",
    "    @nn.compact   \n",
    "    def __call__(self, X_batch):\n",
    "        carry,x=nn.RNN(nn.LSTMCell(32),return_carry=True)(X_batch)\n",
    "        carry,x=nn.RNN(nn.LSTMCell(32),return_carry=True)(x)\n",
    "        x=nn.Dense(future)(x)\n",
    "        return x[:,-1,:]\n",
    "    \n",
    "def log_likelihood(params, x, y):\n",
    "    preds = jax.vmap(model.apply, (0, 0))(params, jnp.array(x[:,:,:,np.newaxis]))\n",
    "    return jnp.mean(optax.l2_loss(y,preds).sum(axis=-1))\n",
    "\n",
    "grad_log_post=jax.jit(jax.grad(log_likelihood))\n",
    "\n",
    "@partial(jax.jit, static_argnums=(3,4))\n",
    "def sgld_kernel_momemtum(key, params, momemtum,grad_log_post, dt, X, y_data):\n",
    "    gamma,eps=0.9,1e-6\n",
    "    key, subkey = jax.random.split(key, 2)\n",
    "    grads = grad_log_post(params, X, y_data)\n",
    "    squared_grads=jax.tree_map(lambda g: jnp.square(g),grads)\n",
    "    momemtum=jax.tree_map(lambda m,s : gamma*m+(1-gamma)*s,momemtum,squared_grads)\n",
    "    noise=jax.tree_map(lambda p: jax.random.normal(key=subkey,shape=p.shape), params)\n",
    "    params=jax.tree_map(lambda p, g,m,n: p-0.5*dt*g/(m+eps)+jnp.sqrt(dt)*n, params, grads,momemtum,noise)\n",
    "    return key, params,momemtum\n",
    "\n",
    "def sgld(key,log_post, grad_log_post, num_samples,\n",
    "                             dt, x_0,X_train_datasets,y_train_datasets,batch_size,\n",
    "                             test_data=None):\n",
    "    samples = list()\n",
    "    loss=list()\n",
    "    param = x_0\n",
    "    key_data, key_model = jax.random.split(key, 2)\n",
    "    momemtum=jax.tree_map(lambda p:jnp.zeros_like(p),param)\n",
    "    key_data_batch=jax.random.split(key_data, num_samples)\n",
    "    for i in range(num_samples):\n",
    "        train_data=get_dataloader(X_train_datasets,y_train_datasets,batch_size,key_data_batch[i],axis=1)\n",
    "        for _,(X_batch, y_batch) in enumerate(train_data):\n",
    "            key_model,param,momemtum = sgld_kernel_momemtum(key_model, param,momemtum, grad_log_post, dt, X_batch, y_batch)\n",
    "        loss.append(log_post(param,X_batch,y_batch))\n",
    "        samples.append(param)\n",
    "        if (i%(num_samples//10)==0):\n",
    "            print('iteration {0}, loss {1:.2f}'.format(i,loss[-1]))\n",
    "    return samples,loss\n"
   ]
  },
  {
   "cell_type": "code",
   "execution_count": 21,
   "metadata": {},
   "outputs": [],
   "source": [
    "key=jax.random.PRNGKey(0)\n",
    "key_model,key_data=jax.random.split(key,2)\n",
    "batch_size=256"
   ]
  },
  {
   "cell_type": "code",
   "execution_count": 22,
   "metadata": {},
   "outputs": [],
   "source": [
    "model=LSTM()\n",
    "n_groups=X_train_datasets.shape[0]\n",
    "inputs = jax.random.randint(key,(batch_size,past,1),0, 10,).astype(jnp.float32)\n",
    "key_tasks=jax.random.split(key_model,n_groups)\n",
    "params_tasks = jax.vmap(model.init, (0, None))(key_tasks, inputs)"
   ]
  },
  {
   "cell_type": "code",
   "execution_count": 23,
   "metadata": {},
   "outputs": [
    {
     "name": "stdout",
     "output_type": "stream",
     "text": [
      "iteration 0, loss 0.83\n",
      "iteration 1, loss 0.78\n",
      "iteration 2, loss 0.86\n",
      "iteration 3, loss 0.64\n",
      "iteration 4, loss 0.58\n",
      "iteration 5, loss 0.47\n",
      "iteration 6, loss 0.70\n",
      "iteration 7, loss 1.04\n",
      "iteration 8, loss 0.98\n",
      "iteration 9, loss 0.87\n"
     ]
    }
   ],
   "source": [
    "dt=1e-5\n",
    "samples,loss=sgld(key_data,log_likelihood, grad_log_post, 10,\n",
    "                             dt, params_tasks,X_train_datasets,y_train_datasets,\n",
    "                             batch_size,test_data=None)"
   ]
  },
  {
   "cell_type": "code",
   "execution_count": 24,
   "metadata": {},
   "outputs": [],
   "source": [
    "X_test=X_test_datasets[:,:,:,np.newaxis]\n",
    "params=samples[-1]\n",
    "preds=jax.vmap(model.apply, (0, 0))(params, X_test)"
   ]
  },
  {
   "cell_type": "code",
   "execution_count": 25,
   "metadata": {},
   "outputs": [
    {
     "data": {
      "text/plain": [
       "{'params': {'Dense_0': {'bias': (12, 6), 'kernel': (12, 32, 6)},\n",
       "  'LSTMCell_0': {'hf': {'bias': (12, 32), 'kernel': (12, 32, 32)},\n",
       "   'hg': {'bias': (12, 32), 'kernel': (12, 32, 32)},\n",
       "   'hi': {'bias': (12, 32), 'kernel': (12, 32, 32)},\n",
       "   'ho': {'bias': (12, 32), 'kernel': (12, 32, 32)},\n",
       "   'if': {'kernel': (12, 1, 32)},\n",
       "   'ig': {'kernel': (12, 1, 32)},\n",
       "   'ii': {'kernel': (12, 1, 32)},\n",
       "   'io': {'kernel': (12, 1, 32)}},\n",
       "  'LSTMCell_1': {'hf': {'bias': (12, 32), 'kernel': (12, 32, 32)},\n",
       "   'hg': {'bias': (12, 32), 'kernel': (12, 32, 32)},\n",
       "   'hi': {'bias': (12, 32), 'kernel': (12, 32, 32)},\n",
       "   'ho': {'bias': (12, 32), 'kernel': (12, 32, 32)},\n",
       "   'if': {'kernel': (12, 32, 32)},\n",
       "   'ig': {'kernel': (12, 32, 32)},\n",
       "   'ii': {'kernel': (12, 32, 32)},\n",
       "   'io': {'kernel': (12, 32, 32)}}}}"
      ]
     },
     "execution_count": 25,
     "metadata": {},
     "output_type": "execute_result"
    }
   ],
   "source": [
    "jax.tree_map(jnp.shape,params)"
   ]
  },
  {
   "cell_type": "code",
   "execution_count": 27,
   "metadata": {},
   "outputs": [
    {
     "name": "stdout",
     "output_type": "stream",
     "text": [
      "task : Aotizhongxin, RMSE : 0.24, MAE :0.29, R2 :0.63\n",
      "task : Changping, RMSE : 0.23, MAE :0.27, R2 :0.62\n",
      "task : Dingling, RMSE : 0.19, MAE :0.24, R2 :0.72\n",
      "task : Dongsi, RMSE : 0.27, MAE :0.30, R2 :0.61\n",
      "task : Guanyuan, RMSE : 0.26, MAE :0.30, R2 :0.66\n",
      "task : Gucheng, RMSE : 0.28, MAE :0.29, R2 :0.65\n",
      "task : Huairou, RMSE : 0.21, MAE :0.24, R2 :0.67\n",
      "task : Nongzhanguan, RMSE : 0.24, MAE :0.28, R2 :0.63\n",
      "task : Shunyi, RMSE : 0.26, MAE :0.28, R2 :0.62\n",
      "task : Tiantan, RMSE : 0.24, MAE :0.28, R2 :0.66\n",
      "task : Wanliu, RMSE : 0.22, MAE :0.28, R2 :0.62\n",
      "task : Wanshouxigong, RMSE : 0.27, MAE :0.29, R2 :0.66\n",
      "-------------------------------------------------------\n",
      "RMSE : 0.24, MAE :0.28, R2 :0.65\n"
     ]
    }
   ],
   "source": [
    "from sklearn import metrics\n",
    "r_metric=list()\n",
    "rmse_metric=list()\n",
    "mae_metric=list()\n",
    "for i in range(n_groups):\n",
    "    r_squared=metrics.r2_score(preds[i,:,:],y_test_datasets[i,:,:])\n",
    "    rmse=metrics.mean_squared_error(preds[i,:,:],y_test_datasets[i,:,:],squared=True)\n",
    "    mae=metrics.mean_absolute_error(preds[i,:,:],y_test_datasets[i,:,:])\n",
    "    r_metric.append(r_squared)\n",
    "    rmse_metric.append(rmse)\n",
    "    mae_metric.append(mae)\n",
    "    print('task : {0}, RMSE : {1:1.2f}, MAE :{2:1.2f}, R2 :{3:1.2f}'.format(dataset_names[i],rmse,mae,r_squared))\n",
    "print('-------------------------------------------------------')\n",
    "print('RMSE : {0:1.2f}, MAE :{1:1.2f}, R2 :{2:1.2f}'.format(np.mean(rmse_metric),np.mean(mae_metric),np.mean(r_metric)))"
   ]
  },
  {
   "cell_type": "code",
   "execution_count": 38,
   "metadata": {},
   "outputs": [],
   "source": [
    "ensemble_pred=list()\n",
    "X_test=X_test_datasets[:,:,:,np.newaxis]\n",
    "for i in range(len(samples)):\n",
    "    preds=jax.vmap(model.apply, (0, 0))(samples[i], X_test)\n",
    "    ensemble_pred.append(preds)"
   ]
  },
  {
   "cell_type": "code",
   "execution_count": 29,
   "metadata": {},
   "outputs": [],
   "source": [
    "ensemble_pred=np.stack(ensemble_pred,axis=2)"
   ]
  },
  {
   "cell_type": "code",
   "execution_count": 30,
   "metadata": {},
   "outputs": [],
   "source": [
    "mean_pred=np.mean(ensemble_pred,axis=2)\n",
    "std_pred=np.std(ensemble_pred,axis=2)"
   ]
  },
  {
   "cell_type": "code",
   "execution_count": 34,
   "metadata": {},
   "outputs": [
    {
     "data": {
      "text/plain": [
       "(12, 7002, 6)"
      ]
     },
     "execution_count": 34,
     "metadata": {},
     "output_type": "execute_result"
    }
   ],
   "source": [
    "y_test_datasets.shape"
   ]
  },
  {
   "cell_type": "code",
   "execution_count": 37,
   "metadata": {},
   "outputs": [
    {
     "data": {
      "image/png": "[encoded data removed]",
      "text/plain": [
       "<Figure size 864x864 with 3 Axes>"
      ]
     },
     "metadata": {
      "needs_background": "light"
     },
     "output_type": "display_data"
    }
   ],
   "source": [
    "fig, (ax1, ax2, ax3) = plt.subplots(3, 1, sharex=True, figsize=(12, 12))\n",
    "\n",
    "future_pred=1\n",
    "names=np.ravel(gdf.index[0:23].to_frame().values)\n",
    "ax1.plot(names,y_test_datasets[0,:23,future_pred], linewidth=2,color=\"black\")\n",
    "ax1.plot(names,mean_pred[0,2:25,future_pred], linewidth=2)\n",
    "ax1.fill_between(names,np.ravel(mean_pred[0,2:25,future_pred]-std_pred[0,2:25,future_pred]),np.ravel(mean_pred[0,2:25,future_pred]+std_pred[0,2:25,future_pred]),alpha=0.2)\n",
    "ax1.set_xlabel('Time')\n",
    "ax1.set_ylabel('PM2.5')\n",
    "#ax1.legend(dataset_names[0], loc=\"upper left\", fontsize=\"xx-large\")\n",
    "ax1.grid(True)\n",
    "\n",
    "ax2.plot(names,y_test_datasets[1,:23,future_pred], linewidth=2,color=\"black\")\n",
    "ax2.plot(names,mean_pred[1,2:25,future_pred], linewidth=2)\n",
    "ax2.fill_between(names,np.ravel(mean_pred[1,2:25,future_pred]-std_pred[1,2:25,future_pred]),np.ravel(mean_pred[1,2:25,future_pred]+std_pred[1,2:25,future_pred]),alpha=0.2)\n",
    "ax2.set_xlabel('Time')\n",
    "ax2.set_ylabel('PM2.5')\n",
    "ax1.set_title(dataset_names[1])\n",
    "ax2.grid(True)\n",
    "\n",
    "ax3.plot(names,y_test_datasets[2,:23,future_pred], linewidth=2,color=\"black\")\n",
    "ax3.plot(names,mean_pred[2,2:25,future_pred], linewidth=2)\n",
    "ax3.fill_between(names,np.ravel(mean_pred[2,2:25,future_pred]-std_pred[2,2:25,future_pred]),np.ravel(mean_pred[2,2:25,future_pred]+std_pred[2,2:25,future_pred]),alpha=0.2)\n",
    "ax3.set_xlabel('Time')\n",
    "ax3.set_ylabel('PM2.5')\n",
    "ax1.set_title(dataset_names[2])\n",
    "ax3.grid(True)\n",
    "\n",
    "fig.autofmt_xdate()"
   ]
  }
 ],
 "metadata": {
  "kernelspec": {
   "display_name": "tf",
   "language": "python",
   "name": "python3"
  },
  "language_info": {
   "codemirror_mode": {
    "name": "ipython",
    "version": 3
   },
   "file_extension": ".py",
   "mimetype": "text/x-python",
   "name": "python",
   "nbconvert_exporter": "python",
   "pygments_lexer": "ipython3",
   "version": "3.8.17"
  },
  "orig_nbformat": 4
 },
 "nbformat": 4,
 "nbformat_minor": 2
}
