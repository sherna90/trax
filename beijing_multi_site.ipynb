{
  "cells": [
    {
      "cell_type": "code",
      "execution_count": 1,
      "metadata": {
        "id": "zsqMsI8p3SI2"
      },
      "outputs": [],
      "source": [
        "import pandas as pd\n",
        "import matplotlib.pyplot as plt"
      ]
    },
    {
      "cell_type": "code",
      "execution_count": 3,
      "metadata": {
        "id": "y6JnYTys3a1R"
      },
      "outputs": [],
      "source": [
        "import jax"
      ]
    },
    {
      "cell_type": "code",
      "execution_count": 4,
      "metadata": {
        "colab": {
          "base_uri": "https://localhost:8080/"
        },
        "id": "8go6Ehx23cqX",
        "outputId": "42a92421-4c93-4787-88b2-d128ab51bacb"
      },
      "outputs": [
        {
          "name": "stdout",
          "output_type": "stream",
          "text": [
            "--2023-09-06 19:05:06--  https://archive.ics.uci.edu/static/public/501/beijing+multi+site+air+quality+data.zip\n",
            "Resolving archive.ics.uci.edu (archive.ics.uci.edu)... 128.195.10.252\n",
            "Connecting to archive.ics.uci.edu (archive.ics.uci.edu)|128.195.10.252|:443... connected.\n",
            "HTTP request sent, awaiting response... 200 OK\n",
            "Length: unspecified\n",
            "Saving to: ‘beijing+multi+site+air+quality+data.zip’\n",
            "\n",
            "beijing+multi+site+     [     <=>            ]   7.81M  6.68MB/s    in 1.2s    \n",
            "\n",
            "2023-09-06 19:05:07 (6.68 MB/s) - ‘beijing+multi+site+air+quality+data.zip’ saved [8192212]\n",
            "\n"
          ]
        }
      ],
      "source": [
        "!wget https://archive.ics.uci.edu/static/public/501/beijing+multi+site+air+quality+data.zip"
      ]
    },
    {
      "cell_type": "code",
      "execution_count": 5,
      "metadata": {
        "colab": {
          "base_uri": "https://localhost:8080/"
        },
        "id": "6YuGx-Nk3miN",
        "outputId": "33f16efd-bd56-4628-d573-1459a8617ebb"
      },
      "outputs": [
        {
          "name": "stdout",
          "output_type": "stream",
          "text": [
            "Archive:  beijing+multi+site+air+quality+data.zip\n",
            " extracting: PRSA2017_Data_20130301-20170228.zip  \n",
            " extracting: 2A2478DC-8517-4490-9FA7-36F9A7A542BE.JPG  \n",
            " extracting: data.csv                \n",
            " extracting: test.csv                \n"
          ]
        }
      ],
      "source": [
        "!unzip beijing+multi+site+air+quality+data.zip"
      ]
    },
    {
      "cell_type": "code",
      "execution_count": 6,
      "metadata": {
        "colab": {
          "base_uri": "https://localhost:8080/"
        },
        "id": "JfxK4t073sdo",
        "outputId": "43956d6a-5e7f-4fe0-81c0-ead1afad9d81"
      },
      "outputs": [
        {
          "name": "stdout",
          "output_type": "stream",
          "text": [
            "Archive:  PRSA2017_Data_20130301-20170228.zip\n",
            "   creating: PRSA_Data_20130301-20170228/\n",
            "  inflating: PRSA_Data_20130301-20170228/PRSA_Data_Aotizhongxin_20130301-20170228.csv  \n",
            "  inflating: PRSA_Data_20130301-20170228/PRSA_Data_Changping_20130301-20170228.csv  \n",
            "  inflating: PRSA_Data_20130301-20170228/PRSA_Data_Dingling_20130301-20170228.csv  \n",
            "  inflating: PRSA_Data_20130301-20170228/PRSA_Data_Dongsi_20130301-20170228.csv  \n",
            "  inflating: PRSA_Data_20130301-20170228/PRSA_Data_Guanyuan_20130301-20170228.csv  \n",
            "  inflating: PRSA_Data_20130301-20170228/PRSA_Data_Gucheng_20130301-20170228.csv  \n",
            "  inflating: PRSA_Data_20130301-20170228/PRSA_Data_Huairou_20130301-20170228.csv  \n",
            "  inflating: PRSA_Data_20130301-20170228/PRSA_Data_Nongzhanguan_20130301-20170228.csv  \n",
            "  inflating: PRSA_Data_20130301-20170228/PRSA_Data_Shunyi_20130301-20170228.csv  \n",
            "  inflating: PRSA_Data_20130301-20170228/PRSA_Data_Tiantan_20130301-20170228.csv  \n",
            "  inflating: PRSA_Data_20130301-20170228/PRSA_Data_Wanliu_20130301-20170228.csv  \n",
            "  inflating: PRSA_Data_20130301-20170228/PRSA_Data_Wanshouxigong_20130301-20170228.csv  \n"
          ]
        }
      ],
      "source": [
        "!unzip PRSA2017_Data_20130301-20170228.zip"
      ]
    },
    {
      "cell_type": "code",
      "execution_count": 7,
      "metadata": {
        "colab": {
          "base_uri": "https://localhost:8080/"
        },
        "id": "-tzmMZ3W4ieS",
        "outputId": "43441302-78c3-44f5-f333-d7c4bfb33421"
      },
      "outputs": [
        {
          "name": "stdout",
          "output_type": "stream",
          "text": [
            "2A2478DC-8517-4490-9FA7-36F9A7A542BE.JPG  PRSA_Data_20130301-20170228\n",
            "beijing+multi+site+air+quality+data.zip   sample_data\n",
            "data.csv\t\t\t\t  test.csv\n",
            "PRSA2017_Data_20130301-20170228.zip\n"
          ]
        }
      ],
      "source": [
        "!ls"
      ]
    },
    {
      "cell_type": "code",
      "execution_count": 4,
      "metadata": {
        "id": "jLtxU5Sc3SI5"
      },
      "outputs": [],
      "source": [
        "import glob\n",
        "import pandas as pd\n",
        "\n",
        "path = 'data/PRSA_Data_20130301-20170228/'\n",
        "csv_files = glob.glob(path + \"/*.csv\")\n",
        "\n",
        "# Read each CSV file into DataFrame\n",
        "# This creates a list of dataframes\n",
        "df_list = [pd.read_csv(file) for file in csv_files]"
      ]
    },
    {
      "cell_type": "code",
      "execution_count": 5,
      "metadata": {
        "id": "0VUjH8Mn3SI5"
      },
      "outputs": [],
      "source": [
        "def pre_process(df):\n",
        "    df['date_time']=pd.to_datetime(df[['year', 'month', 'day','hour']])\n",
        "    df.drop(columns=['year', 'month', 'day','hour','No'],inplace=True)\n",
        "    df.set_index('date_time',inplace=True)\n",
        "    return df"
      ]
    },
    {
      "cell_type": "code",
      "execution_count": 6,
      "metadata": {
        "id": "Quh0s5FH3SI5"
      },
      "outputs": [],
      "source": [
        "df_preprocessed=[pre_process(df) for df in df_list]"
      ]
    },
    {
      "cell_type": "code",
      "execution_count": 7,
      "metadata": {
        "colab": {
          "base_uri": "https://localhost:8080/",
          "height": 464
        },
        "id": "zw_0rXH43SI6",
        "outputId": "f5038adc-4fc1-4dbf-b897-691c7a391249"
      },
      "outputs": [
        {
          "data": {
            "text/html": [
              "<div>\n",
              "<style scoped>\n",
              "    .dataframe tbody tr th:only-of-type {\n",
              "        vertical-align: middle;\n",
              "    }\n",
              "\n",
              "    .dataframe tbody tr th {\n",
              "        vertical-align: top;\n",
              "    }\n",
              "\n",
              "    .dataframe thead th {\n",
              "        text-align: right;\n",
              "    }\n",
              "</style>\n",
              "<table border=\"1\" class=\"dataframe\">\n",
              "  <thead>\n",
              "    <tr style=\"text-align: right;\">\n",
              "      <th></th>\n",
              "      <th>PM2.5</th>\n",
              "      <th>PM10</th>\n",
              "      <th>SO2</th>\n",
              "      <th>NO2</th>\n",
              "      <th>CO</th>\n",
              "      <th>O3</th>\n",
              "      <th>TEMP</th>\n",
              "      <th>PRES</th>\n",
              "      <th>DEWP</th>\n",
              "      <th>RAIN</th>\n",
              "      <th>wd</th>\n",
              "      <th>WSPM</th>\n",
              "      <th>station</th>\n",
              "    </tr>\n",
              "    <tr>\n",
              "      <th>date_time</th>\n",
              "      <th></th>\n",
              "      <th></th>\n",
              "      <th></th>\n",
              "      <th></th>\n",
              "      <th></th>\n",
              "      <th></th>\n",
              "      <th></th>\n",
              "      <th></th>\n",
              "      <th></th>\n",
              "      <th></th>\n",
              "      <th></th>\n",
              "      <th></th>\n",
              "      <th></th>\n",
              "    </tr>\n",
              "  </thead>\n",
              "  <tbody>\n",
              "    <tr>\n",
              "      <th>2013-03-01 00:00:00</th>\n",
              "      <td>6.0</td>\n",
              "      <td>18.0</td>\n",
              "      <td>5.0</td>\n",
              "      <td>NaN</td>\n",
              "      <td>800.0</td>\n",
              "      <td>88.0</td>\n",
              "      <td>0.1</td>\n",
              "      <td>1021.1</td>\n",
              "      <td>-18.6</td>\n",
              "      <td>0.0</td>\n",
              "      <td>NW</td>\n",
              "      <td>4.4</td>\n",
              "      <td>Gucheng</td>\n",
              "    </tr>\n",
              "    <tr>\n",
              "      <th>2013-03-01 01:00:00</th>\n",
              "      <td>6.0</td>\n",
              "      <td>15.0</td>\n",
              "      <td>5.0</td>\n",
              "      <td>NaN</td>\n",
              "      <td>800.0</td>\n",
              "      <td>88.0</td>\n",
              "      <td>-0.3</td>\n",
              "      <td>1021.5</td>\n",
              "      <td>-19.0</td>\n",
              "      <td>0.0</td>\n",
              "      <td>NW</td>\n",
              "      <td>4.0</td>\n",
              "      <td>Gucheng</td>\n",
              "    </tr>\n",
              "    <tr>\n",
              "      <th>2013-03-01 02:00:00</th>\n",
              "      <td>5.0</td>\n",
              "      <td>18.0</td>\n",
              "      <td>NaN</td>\n",
              "      <td>NaN</td>\n",
              "      <td>700.0</td>\n",
              "      <td>52.0</td>\n",
              "      <td>-0.7</td>\n",
              "      <td>1021.5</td>\n",
              "      <td>-19.8</td>\n",
              "      <td>0.0</td>\n",
              "      <td>WNW</td>\n",
              "      <td>4.6</td>\n",
              "      <td>Gucheng</td>\n",
              "    </tr>\n",
              "    <tr>\n",
              "      <th>2013-03-01 03:00:00</th>\n",
              "      <td>6.0</td>\n",
              "      <td>20.0</td>\n",
              "      <td>6.0</td>\n",
              "      <td>NaN</td>\n",
              "      <td>NaN</td>\n",
              "      <td>NaN</td>\n",
              "      <td>-1.0</td>\n",
              "      <td>1022.7</td>\n",
              "      <td>-21.2</td>\n",
              "      <td>0.0</td>\n",
              "      <td>W</td>\n",
              "      <td>2.8</td>\n",
              "      <td>Gucheng</td>\n",
              "    </tr>\n",
              "    <tr>\n",
              "      <th>2013-03-01 04:00:00</th>\n",
              "      <td>5.0</td>\n",
              "      <td>17.0</td>\n",
              "      <td>5.0</td>\n",
              "      <td>NaN</td>\n",
              "      <td>600.0</td>\n",
              "      <td>73.0</td>\n",
              "      <td>-1.3</td>\n",
              "      <td>1023.0</td>\n",
              "      <td>-21.4</td>\n",
              "      <td>0.0</td>\n",
              "      <td>WNW</td>\n",
              "      <td>3.6</td>\n",
              "      <td>Gucheng</td>\n",
              "    </tr>\n",
              "    <tr>\n",
              "      <th>...</th>\n",
              "      <td>...</td>\n",
              "      <td>...</td>\n",
              "      <td>...</td>\n",
              "      <td>...</td>\n",
              "      <td>...</td>\n",
              "      <td>...</td>\n",
              "      <td>...</td>\n",
              "      <td>...</td>\n",
              "      <td>...</td>\n",
              "      <td>...</td>\n",
              "      <td>...</td>\n",
              "      <td>...</td>\n",
              "      <td>...</td>\n",
              "    </tr>\n",
              "    <tr>\n",
              "      <th>2017-02-28 19:00:00</th>\n",
              "      <td>14.0</td>\n",
              "      <td>58.0</td>\n",
              "      <td>4.0</td>\n",
              "      <td>19.0</td>\n",
              "      <td>500.0</td>\n",
              "      <td>56.0</td>\n",
              "      <td>12.8</td>\n",
              "      <td>1009.9</td>\n",
              "      <td>-17.0</td>\n",
              "      <td>0.0</td>\n",
              "      <td>NNW</td>\n",
              "      <td>3.1</td>\n",
              "      <td>Gucheng</td>\n",
              "    </tr>\n",
              "    <tr>\n",
              "      <th>2017-02-28 20:00:00</th>\n",
              "      <td>27.0</td>\n",
              "      <td>83.0</td>\n",
              "      <td>6.0</td>\n",
              "      <td>60.0</td>\n",
              "      <td>700.0</td>\n",
              "      <td>26.0</td>\n",
              "      <td>11.1</td>\n",
              "      <td>1010.4</td>\n",
              "      <td>-15.5</td>\n",
              "      <td>0.0</td>\n",
              "      <td>NW</td>\n",
              "      <td>1.9</td>\n",
              "      <td>Gucheng</td>\n",
              "    </tr>\n",
              "    <tr>\n",
              "      <th>2017-02-28 21:00:00</th>\n",
              "      <td>22.0</td>\n",
              "      <td>37.0</td>\n",
              "      <td>7.0</td>\n",
              "      <td>52.0</td>\n",
              "      <td>600.0</td>\n",
              "      <td>27.0</td>\n",
              "      <td>10.5</td>\n",
              "      <td>1010.8</td>\n",
              "      <td>-15.9</td>\n",
              "      <td>0.0</td>\n",
              "      <td>N</td>\n",
              "      <td>2.3</td>\n",
              "      <td>Gucheng</td>\n",
              "    </tr>\n",
              "    <tr>\n",
              "      <th>2017-02-28 22:00:00</th>\n",
              "      <td>9.0</td>\n",
              "      <td>23.0</td>\n",
              "      <td>3.0</td>\n",
              "      <td>13.0</td>\n",
              "      <td>400.0</td>\n",
              "      <td>57.0</td>\n",
              "      <td>8.9</td>\n",
              "      <td>1010.9</td>\n",
              "      <td>-14.9</td>\n",
              "      <td>0.0</td>\n",
              "      <td>NE</td>\n",
              "      <td>1.6</td>\n",
              "      <td>Gucheng</td>\n",
              "    </tr>\n",
              "    <tr>\n",
              "      <th>2017-02-28 23:00:00</th>\n",
              "      <td>12.0</td>\n",
              "      <td>48.0</td>\n",
              "      <td>5.0</td>\n",
              "      <td>48.0</td>\n",
              "      <td>600.0</td>\n",
              "      <td>28.0</td>\n",
              "      <td>6.2</td>\n",
              "      <td>1010.5</td>\n",
              "      <td>-13.4</td>\n",
              "      <td>0.0</td>\n",
              "      <td>NNE</td>\n",
              "      <td>0.7</td>\n",
              "      <td>Gucheng</td>\n",
              "    </tr>\n",
              "  </tbody>\n",
              "</table>\n",
              "<p>35064 rows × 13 columns</p>\n",
              "</div>"
            ],
            "text/plain": [
              "                     PM2.5  PM10  SO2   NO2     CO    O3  TEMP    PRES  DEWP  \\\n",
              "date_time                                                                      \n",
              "2013-03-01 00:00:00    6.0  18.0  5.0   NaN  800.0  88.0   0.1  1021.1 -18.6   \n",
              "2013-03-01 01:00:00    6.0  15.0  5.0   NaN  800.0  88.0  -0.3  1021.5 -19.0   \n",
              "2013-03-01 02:00:00    5.0  18.0  NaN   NaN  700.0  52.0  -0.7  1021.5 -19.8   \n",
              "2013-03-01 03:00:00    6.0  20.0  6.0   NaN    NaN   NaN  -1.0  1022.7 -21.2   \n",
              "2013-03-01 04:00:00    5.0  17.0  5.0   NaN  600.0  73.0  -1.3  1023.0 -21.4   \n",
              "...                    ...   ...  ...   ...    ...   ...   ...     ...   ...   \n",
              "2017-02-28 19:00:00   14.0  58.0  4.0  19.0  500.0  56.0  12.8  1009.9 -17.0   \n",
              "2017-02-28 20:00:00   27.0  83.0  6.0  60.0  700.0  26.0  11.1  1010.4 -15.5   \n",
              "2017-02-28 21:00:00   22.0  37.0  7.0  52.0  600.0  27.0  10.5  1010.8 -15.9   \n",
              "2017-02-28 22:00:00    9.0  23.0  3.0  13.0  400.0  57.0   8.9  1010.9 -14.9   \n",
              "2017-02-28 23:00:00   12.0  48.0  5.0  48.0  600.0  28.0   6.2  1010.5 -13.4   \n",
              "\n",
              "                     RAIN   wd  WSPM  station  \n",
              "date_time                                      \n",
              "2013-03-01 00:00:00   0.0   NW   4.4  Gucheng  \n",
              "2013-03-01 01:00:00   0.0   NW   4.0  Gucheng  \n",
              "2013-03-01 02:00:00   0.0  WNW   4.6  Gucheng  \n",
              "2013-03-01 03:00:00   0.0    W   2.8  Gucheng  \n",
              "2013-03-01 04:00:00   0.0  WNW   3.6  Gucheng  \n",
              "...                   ...  ...   ...      ...  \n",
              "2017-02-28 19:00:00   0.0  NNW   3.1  Gucheng  \n",
              "2017-02-28 20:00:00   0.0   NW   1.9  Gucheng  \n",
              "2017-02-28 21:00:00   0.0    N   2.3  Gucheng  \n",
              "2017-02-28 22:00:00   0.0   NE   1.6  Gucheng  \n",
              "2017-02-28 23:00:00   0.0  NNE   0.7  Gucheng  \n",
              "\n",
              "[35064 rows x 13 columns]"
            ]
          },
          "execution_count": 7,
          "metadata": {},
          "output_type": "execute_result"
        }
      ],
      "source": [
        "df_preprocessed[0]"
      ]
    },
    {
      "cell_type": "code",
      "execution_count": 8,
      "metadata": {
        "id": "FkBBUlqp3SI6"
      },
      "outputs": [],
      "source": [
        "df_group=pd.concat(df_preprocessed)"
      ]
    },
    {
      "cell_type": "code",
      "execution_count": 9,
      "metadata": {
        "id": "Glt7mvn43SI6"
      },
      "outputs": [],
      "source": [
        "def train_test_split(data,split_fraction,feature_keys):\n",
        "    data=data[feature_keys]\n",
        "    train_split = int(split_fraction * int(data.shape[0]))\n",
        "    data_mean = data[:train_split].mean(axis=0)\n",
        "    data_std = data[:train_split].std(axis=0)\n",
        "    data = (data - data_mean) / data_std\n",
        "    train_data = data.iloc[0 : train_split - 1]\n",
        "    val_data = data.iloc[train_split:]\n",
        "    return train_data,val_data\n",
        "\n",
        "def create_batch(data,lag,future):\n",
        "    df_lag=pd.concat([data[:-future].shift(i) for i in range(lag-1,-1,-1)],axis=1).dropna()\n",
        "    #df_lag.columns=['pm_'+str(i) for i in range(lag,-1,1)]\n",
        "    X=df_lag.values\n",
        "    y=data[future+lag-1:].values\n",
        "    return X,y\n",
        "\n",
        "def create_batch_multistep(df,lag,future,feature=None):\n",
        "    if feature is None:\n",
        "        data=df\n",
        "    else:\n",
        "        data=df[feature]\n",
        "    df_lag=pd.concat([data[:-future].shift(i) for i in range(lag-1,-1,-1)],axis=1).dropna()\n",
        "    df_future=pd.concat([data[lag-1:].shift(-i) for i in range(1,future+1)],axis=1).dropna()\n",
        "    #df_lag.columns=['pm_'+str(i) for i in range(lag,-1,1)]\n",
        "    X=df_lag.values\n",
        "    y=df_future.values\n",
        "    return X,y"
      ]
    },
    {
      "cell_type": "code",
      "execution_count": 10,
      "metadata": {
        "colab": {
          "base_uri": "https://localhost:8080/"
        },
        "id": "6x13SCYW41dB",
        "outputId": "22498e73-9c93-45ea-e93e-73e5f40f458e"
      },
      "outputs": [
        {
          "data": {
            "text/plain": [
              "Index(['PM2.5', 'PM10', 'SO2', 'NO2', 'CO', 'O3', 'TEMP', 'PRES', 'DEWP',\n",
              "       'RAIN', 'wd', 'WSPM', 'station'],\n",
              "      dtype='object')"
            ]
          },
          "execution_count": 10,
          "metadata": {},
          "output_type": "execute_result"
        }
      ],
      "source": [
        "df_group.columns"
      ]
    },
    {
      "cell_type": "code",
      "execution_count": 49,
      "metadata": {
        "id": "bmyg4C1L3SI7"
      },
      "outputs": [],
      "source": [
        "import numpy as np\n",
        "\n",
        "split_fraction = 0.8\n",
        "feature_keys = ['PM2.5','TEMP','PRES','DEWP','RAIN','PM10']\n",
        "X_train_datasets=list()\n",
        "y_train_datasets=list()\n",
        "X_test_datasets=list()\n",
        "y_test_datasets=list()\n",
        "future=6\n",
        "past=6\n",
        "dataset_names=list()\n",
        "for item_id, gdf in df_group.groupby('station'):\n",
        "    gdf.fillna(method='ffill',inplace=True)\n",
        "    train,test=train_test_split(gdf,split_fraction,feature_keys)\n",
        "    train_multi_feature=list()\n",
        "    test_multi_feature=list()\n",
        "    for feature in feature_keys:\n",
        "        X_train,y_train=create_batch_multistep(train,past,future,feature)\n",
        "        X_test,y_test=create_batch_multistep(test,past,future,feature)\n",
        "        train_multi_feature.append(X_train)\n",
        "        test_multi_feature.append(X_test)\n",
        "        if feature=='PM2.5':\n",
        "            y_train_datasets.append(y_train)\n",
        "            y_test_datasets.append(y_test)\n",
        "    X_train_datasets.append(np.stack(train_multi_feature,axis=-1))\n",
        "    X_test_datasets.append(np.stack(test_multi_feature,axis=-1))\n",
        "    dataset_names.append(item_id)\n",
        "X_train_datasets=np.stack(X_train_datasets,axis=0)\n",
        "y_train_datasets=np.stack(y_train_datasets,axis=0)\n",
        "X_test_datasets=np.stack(X_test_datasets,axis=0)\n",
        "y_test_datasets=np.stack(y_test_datasets,axis=0)"
      ]
    },
    {
      "cell_type": "code",
      "execution_count": 50,
      "metadata": {
        "colab": {
          "base_uri": "https://localhost:8080/"
        },
        "id": "GSNxa48k3SI7",
        "outputId": "c75f5d90-fc7d-4ac7-e94f-8c20148ed525"
      },
      "outputs": [
        {
          "data": {
            "text/plain": [
              "((12, 28039, 6, 6), (12, 28039, 6))"
            ]
          },
          "execution_count": 50,
          "metadata": {},
          "output_type": "execute_result"
        }
      ],
      "source": [
        "X_train_datasets.shape,y_train_datasets.shape"
      ]
    },
    {
      "cell_type": "code",
      "execution_count": 51,
      "metadata": {
        "id": "jPiWldRp3SI7"
      },
      "outputs": [],
      "source": [
        "import jax\n",
        "import jax.numpy as jnp\n",
        "\n",
        "def get_dataloader(X,y,batch_size,key,axis=0):\n",
        "    num_train=X.shape[axis]\n",
        "    indices = jnp.array(list(range(0,num_train)))\n",
        "    indices=jax.random.permutation(key,indices)\n",
        "    for i in range(0, len(indices),batch_size):\n",
        "        batch_indices = jnp.array(indices[i: i+batch_size])\n",
        "        yield X[:,batch_indices,:,:], y[:,batch_indices]"
      ]
    },
    {
      "cell_type": "code",
      "execution_count": 52,
      "metadata": {
        "id": "8WvFC_sY3SI8"
      },
      "outputs": [],
      "source": [
        "import optax\n",
        "from flax import linen as nn\n",
        "from functools import partial\n",
        "\n",
        "class LSTM(nn.Module):\n",
        "\n",
        "    @nn.remat\n",
        "    @nn.compact\n",
        "    def __call__(self, X_batch):\n",
        "        carry,x=nn.RNN(nn.LSTMCell(32),return_carry=True)(X_batch)\n",
        "        #carry,x=nn.RNN(nn.LSTMCell(32),return_carry=True)(x)\n",
        "        x=nn.Dense(future)(x)\n",
        "        return x[:,-1,:]\n",
        "\n",
        "def log_likelihood(params, x, y):\n",
        "    preds = jax.vmap(model.apply, (0, 0))(params, jnp.array(x))\n",
        "    return jnp.mean(optax.l2_loss(y,preds).sum(axis=-1))\n",
        "\n",
        "grad_log_post=jax.jit(jax.grad(log_likelihood))\n",
        "\n",
        "@partial(jax.jit, static_argnums=(3,4))\n",
        "def sgld_kernel_momemtum(key, params, momemtum,grad_log_post, dt, X, y_data):\n",
        "    gamma,eps=0.9,1e-6\n",
        "    key, subkey = jax.random.split(key, 2)\n",
        "    grads = grad_log_post(params, X, y_data)\n",
        "    squared_grads=jax.tree_map(lambda g: jnp.square(g),grads)\n",
        "    momemtum=jax.tree_map(lambda m,s : gamma*m+(1-gamma)*s,momemtum,squared_grads)\n",
        "    noise=jax.tree_map(lambda p: jax.random.normal(key=subkey,shape=p.shape), params)\n",
        "    params=jax.tree_map(lambda p, g,m,n: p-0.5*dt*g/(m+eps)+jnp.sqrt(dt)*n, params, grads,momemtum,noise)\n",
        "    return key, params,momemtum\n",
        "\n",
        "def sgld(key,log_post, grad_log_post, num_samples,\n",
        "                             dt, x_0,X_train_datasets,y_train_datasets,batch_size,\n",
        "                             test_data=None):\n",
        "    samples = list()\n",
        "    loss=list()\n",
        "    param = x_0\n",
        "    key_data, key_model = jax.random.split(key, 2)\n",
        "    momemtum=jax.tree_map(lambda p:jnp.zeros_like(p),param)\n",
        "    key_data_batch=jax.random.split(key_data, num_samples)\n",
        "    for i in range(num_samples):\n",
        "        train_data=get_dataloader(X_train_datasets,y_train_datasets,batch_size,key_data_batch[i],axis=1)\n",
        "        for _,(X_batch, y_batch) in enumerate(train_data):\n",
        "            key_model,param,momemtum = sgld_kernel_momemtum(key_model, param,momemtum, grad_log_post, dt, X_batch, y_batch)\n",
        "        loss.append(log_post(param,X_batch,y_batch))\n",
        "        samples.append(param)\n",
        "        if (i%(num_samples//10)==0):\n",
        "            print('iteration {0}, loss {1:.2f}'.format(i,loss[-1]))\n",
        "    return samples,loss\n"
      ]
    },
    {
      "cell_type": "code",
      "execution_count": 53,
      "metadata": {
        "id": "9I4ALU2G3SI8"
      },
      "outputs": [],
      "source": [
        "key=jax.random.PRNGKey(0)\n",
        "key_model,key_data=jax.random.split(key,2)\n",
        "batch_size=256"
      ]
    },
    {
      "cell_type": "code",
      "execution_count": 54,
      "metadata": {
        "id": "1G7gaM6q3SI8"
      },
      "outputs": [],
      "source": [
        "model=LSTM()\n",
        "n_groups=X_train_datasets.shape[0]\n",
        "n_features=len(feature_keys)\n",
        "inputs = jax.random.randint(key,(batch_size,past,n_features),0, 10,).astype(jnp.float32)\n",
        "key_tasks=jax.random.split(key_model,n_groups)\n",
        "params_tasks = jax.vmap(model.init, (0, None))(key_tasks, inputs)"
      ]
    },
    {
      "cell_type": "code",
      "execution_count": 55,
      "metadata": {
        "colab": {
          "base_uri": "https://localhost:8080/"
        },
        "id": "DOKMPrYS3SI8",
        "outputId": "7d7ace78-e3a0-4b69-96c2-13b0ab9b6ebf"
      },
      "outputs": [
        {
          "name": "stdout",
          "output_type": "stream",
          "text": [
            "iteration 0, loss 0.86\n",
            "iteration 5, loss 0.55\n",
            "iteration 10, loss 0.61\n",
            "iteration 15, loss 0.54\n",
            "iteration 20, loss 0.52\n",
            "iteration 25, loss 0.46\n",
            "iteration 30, loss 0.47\n",
            "iteration 35, loss 0.42\n",
            "iteration 40, loss 0.46\n",
            "iteration 45, loss 0.47\n"
          ]
        }
      ],
      "source": [
        "dt=1e-5\n",
        "samples,loss=sgld(key_data,log_likelihood, grad_log_post, 50,\n",
        "                             dt, params_tasks,X_train_datasets,y_train_datasets,\n",
        "                             batch_size,test_data=None)"
      ]
    },
    {
      "cell_type": "code",
      "execution_count": 56,
      "metadata": {},
      "outputs": [
        {
          "data": {
            "text/plain": [
              "PyTreeDef({'Dense_0': {'bias': *, 'kernel': *}, 'LSTMCell_0': {'hf': {'bias': *, 'kernel': *}, 'hg': {'bias': *, 'kernel': *}, 'hi': {'bias': *, 'kernel': *}, 'ho': {'bias': *, 'kernel': *}, 'if': {'kernel': *}, 'ig': {'kernel': *}, 'ii': {'kernel': *}, 'io': {'kernel': *}}})"
            ]
          },
          "execution_count": 56,
          "metadata": {},
          "output_type": "execute_result"
        }
      ],
      "source": [
        "jax.tree_util.tree_flatten(samples[0]['params'])[1]"
      ]
    },
    {
      "cell_type": "code",
      "execution_count": 57,
      "metadata": {},
      "outputs": [],
      "source": [
        "flat_param=[jax.flatten_util.ravel_pytree(samples[i])[0] for i in range(len(samples))]\n",
        "flat_param=jnp.stack(flat_param)"
      ]
    },
    {
      "cell_type": "code",
      "execution_count": 58,
      "metadata": {},
      "outputs": [
        {
          "data": {
            "text/plain": [
              "(50, 62280)"
            ]
          },
          "execution_count": 58,
          "metadata": {},
          "output_type": "execute_result"
        }
      ],
      "source": [
        "flat_param.shape"
      ]
    },
    {
      "cell_type": "code",
      "execution_count": 59,
      "metadata": {
        "id": "EGVvCzoL3SI9"
      },
      "outputs": [],
      "source": [
        "X_test=X_test_datasets\n",
        "params=samples[-1]\n",
        "preds=jax.vmap(model.apply, (0, 0))(params, X_test)"
      ]
    },
    {
      "cell_type": "code",
      "execution_count": 60,
      "metadata": {
        "colab": {
          "base_uri": "https://localhost:8080/",
          "height": 413
        },
        "id": "9eIpdnFW3SI9",
        "outputId": "416a09bd-c7c4-43c5-c9f2-d152d6159810"
      },
      "outputs": [
        {
          "name": "stdout",
          "output_type": "stream",
          "text": [
            "task : Aotizhongxin, RMSE : 0.23, MAE :0.27, R2 :0.70\n",
            "task : Changping, RMSE : 0.23, MAE :0.26, R2 :0.69\n",
            "task : Dingling, RMSE : 0.22, MAE :0.24, R2 :0.71\n",
            "task : Dongsi, RMSE : 0.27, MAE :0.29, R2 :0.63\n",
            "task : Guanyuan, RMSE : 0.27, MAE :0.29, R2 :0.69\n",
            "task : Gucheng, RMSE : 0.31, MAE :0.29, R2 :0.59\n",
            "task : Huairou, RMSE : 0.20, MAE :0.24, R2 :0.71\n",
            "task : Nongzhanguan, RMSE : 0.23, MAE :0.27, R2 :0.70\n",
            "task : Shunyi, RMSE : 0.24, MAE :0.28, R2 :0.68\n",
            "task : Tiantan, RMSE : 0.25, MAE :0.28, R2 :0.66\n",
            "task : Wanliu, RMSE : 0.23, MAE :0.26, R2 :0.69\n",
            "task : Wanshouxigong, RMSE : 0.27, MAE :0.29, R2 :0.68\n",
            "-------------------------------------------------------\n",
            "RMSE : 0.25, MAE :0.27, R2 :0.68\n"
          ]
        }
      ],
      "source": [
        "from sklearn import metrics\n",
        "r_metric=list()\n",
        "rmse_metric=list()\n",
        "mae_metric=list()\n",
        "for i in range(n_groups):\n",
        "    r_squared=metrics.r2_score(preds[i,:,:],y_test_datasets[i,:,:])\n",
        "    rmse=metrics.mean_squared_error(preds[i,:,:],y_test_datasets[i,:,:],squared=True)\n",
        "    mae=metrics.mean_absolute_error(preds[i,:,:],y_test_datasets[i,:,:])\n",
        "    r_metric.append(r_squared)\n",
        "    rmse_metric.append(rmse)\n",
        "    mae_metric.append(mae)\n",
        "    print('task : {0}, RMSE : {1:1.2f}, MAE :{2:1.2f}, R2 :{3:1.2f}'.format(dataset_names[i],rmse,mae,r_squared))\n",
        "print('-------------------------------------------------------')\n",
        "print('RMSE : {0:1.2f}, MAE :{1:1.2f}, R2 :{2:1.2f}'.format(np.mean(rmse_metric),np.mean(mae_metric),np.mean(r_metric)))"
      ]
    },
    {
      "cell_type": "code",
      "execution_count": 61,
      "metadata": {
        "id": "3_RjP-Ps3SI9"
      },
      "outputs": [],
      "source": [
        "ensemble_pred=list()\n",
        "X_test=X_test_datasets\n",
        "for i in range(len(samples)):\n",
        "    preds=jax.vmap(model.apply, (0, 0))(samples[i], X_test)\n",
        "    ensemble_pred.append(preds)"
      ]
    },
    {
      "cell_type": "code",
      "execution_count": 62,
      "metadata": {
        "id": "OIYZ5nqV3SI-"
      },
      "outputs": [],
      "source": [
        "ensemble_pred=np.stack(ensemble_pred,axis=-1)"
      ]
    },
    {
      "cell_type": "code",
      "execution_count": 63,
      "metadata": {
        "id": "ESB6O6NQ3SI-"
      },
      "outputs": [],
      "source": [
        "mean_pred=np.mean(ensemble_pred,axis=-1)\n",
        "std_pred=np.std(ensemble_pred,axis=-1)"
      ]
    },
    {
      "cell_type": "code",
      "execution_count": 64,
      "metadata": {
        "id": "GK046uYJ3SI-",
        "outputId": "060af021-069a-400b-f81e-28468d3e68f3"
      },
      "outputs": [
        {
          "data": {
            "image/png": "[encoded data removed]",
            "text/plain": [
              "<Figure size 864x864 with 3 Axes>"
            ]
          },
          "metadata": {
            "needs_background": "light"
          },
          "output_type": "display_data"
        }
      ],
      "source": [
        "fig, (ax1, ax2, ax3) = plt.subplots(3, 1, sharex=True, figsize=(12, 12))\n",
        "\n",
        "future_pred=1\n",
        "names=np.ravel(gdf.index[0:23].to_frame().values)\n",
        "ax1.plot(names,y_test_datasets[0,:23,future_pred], linewidth=2,color=\"black\")\n",
        "ax1.plot(names,mean_pred[0,2:25,future_pred], linewidth=2)\n",
        "ax1.fill_between(names,np.ravel(mean_pred[0,2:25,future_pred]-std_pred[0,2:25,future_pred]),np.ravel(mean_pred[0,2:25,future_pred]+std_pred[0,2:25,future_pred]),alpha=0.2)\n",
        "ax1.set_xlabel('Time')\n",
        "ax1.set_ylabel('PM2.5')\n",
        "#ax1.legend(dataset_names[0], loc=\"upper left\", fontsize=\"xx-large\")\n",
        "ax1.grid(True)\n",
        "\n",
        "ax2.plot(names,y_test_datasets[1,:23,future_pred], linewidth=2,color=\"black\")\n",
        "ax2.plot(names,mean_pred[1,2:25,future_pred], linewidth=2)\n",
        "ax2.fill_between(names,np.ravel(mean_pred[1,2:25,future_pred]-std_pred[1,2:25,future_pred]),np.ravel(mean_pred[1,2:25,future_pred]+std_pred[1,2:25,future_pred]),alpha=0.2)\n",
        "ax2.set_xlabel('Time')\n",
        "ax2.set_ylabel('PM2.5')\n",
        "ax1.set_title(dataset_names[1])\n",
        "ax2.grid(True)\n",
        "\n",
        "ax3.plot(names,y_test_datasets[2,:23,future_pred], linewidth=2,color=\"black\")\n",
        "ax3.plot(names,mean_pred[2,2:25,future_pred], linewidth=2)\n",
        "ax3.fill_between(names,np.ravel(mean_pred[2,2:25,future_pred]-std_pred[2,2:25,future_pred]),np.ravel(mean_pred[2,2:25,future_pred]+std_pred[2,2:25,future_pred]),alpha=0.2)\n",
        "ax3.set_xlabel('Time')\n",
        "ax3.set_ylabel('PM2.5')\n",
        "ax1.set_title(dataset_names[2])\n",
        "ax3.grid(True)\n",
        "\n",
        "fig.autofmt_xdate()"
      ]
    }
  ],
  "metadata": {
    "accelerator": "GPU",
    "colab": {
      "gpuType": "T4",
      "provenance": []
    },
    "kernelspec": {
      "display_name": "distrax",
      "language": "python",
      "name": "python3"
    },
    "language_info": {
      "codemirror_mode": {
        "name": "ipython",
        "version": 3
      },
      "file_extension": ".py",
      "mimetype": "text/x-python",
      "name": "python",
      "nbconvert_exporter": "python",
      "pygments_lexer": "ipython3",
      "version": "3.8.17"
    },
    "orig_nbformat": 4
  },
  "nbformat": 4,
  "nbformat_minor": 0
}
