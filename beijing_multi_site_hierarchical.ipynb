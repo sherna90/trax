{
 "cells": [
  {
   "cell_type": "code",
   "execution_count": 48,
   "metadata": {},
   "outputs": [],
   "source": [
    "import pandas as pd\n",
    "import matplotlib.pyplot as plt"
   ]
  },
  {
   "cell_type": "code",
   "execution_count": 49,
   "metadata": {},
   "outputs": [],
   "source": [
    "import glob \n",
    "\n",
    "path = 'data/PRSA_Data_20130301-20170228/'\n",
    "csv_files = glob.glob(path + \"/*.csv\")\n",
    "\n",
    "# Read each CSV file into DataFrame\n",
    "# This creates a list of dataframes\n",
    "df_list = [pd.read_csv(file) for file in csv_files]"
   ]
  },
  {
   "cell_type": "code",
   "execution_count": 50,
   "metadata": {},
   "outputs": [],
   "source": [
    "def pre_process(df):\n",
    "    df['date_time']=pd.to_datetime(df[['year', 'month', 'day','hour']])\n",
    "    df.drop(columns=['year', 'month', 'day','hour','No'],inplace=True)\n",
    "    df.set_index('date_time',inplace=True)\n",
    "    return df"
   ]
  },
  {
   "cell_type": "code",
   "execution_count": 51,
   "metadata": {},
   "outputs": [],
   "source": [
    "df_preprocessed=[pre_process(df) for df in df_list]"
   ]
  },
  {
   "cell_type": "code",
   "execution_count": 52,
   "metadata": {},
   "outputs": [],
   "source": [
    "df_group=pd.concat(df_preprocessed)"
   ]
  },
  {
   "cell_type": "code",
   "execution_count": 53,
   "metadata": {},
   "outputs": [],
   "source": [
    "def train_test_split(data,split_fraction,feature_keys):\n",
    "    data=data[feature_keys]\n",
    "    train_split = int(split_fraction * int(data.shape[0]))\n",
    "    data_mean = data[:train_split].mean(axis=0)\n",
    "    data_std = data[:train_split].std(axis=0)\n",
    "    data = (data - data_mean) / data_std\n",
    "    train_data = data.iloc[0 : train_split - 1]\n",
    "    val_data = data.iloc[train_split:]\n",
    "    return train_data,val_data\n",
    "\n",
    "def create_batch(data,lag,future):\n",
    "    df_lag=pd.concat([data[:-future].shift(i) for i in range(lag-1,-1,-1)],axis=1).dropna()\n",
    "    #df_lag.columns=['pm_'+str(i) for i in range(lag,-1,1)]\n",
    "    X=df_lag.values\n",
    "    y=data[future+lag-1:].values\n",
    "    return X,y"
   ]
  },
  {
   "cell_type": "code",
   "execution_count": 54,
   "metadata": {},
   "outputs": [],
   "source": [
    "import numpy as np \n",
    "\n",
    "split_fraction = 0.8\n",
    "feature_keys = ['PM2.5']\n",
    "X_train_datasets=list()\n",
    "y_train_datasets=list()\n",
    "X_test_datasets=list()\n",
    "y_test_datasets=list()\n",
    "future=1\n",
    "past=6\n",
    "dataset_names=list()\n",
    "for item_id, gdf in df_group.groupby('station'):\n",
    "    gdf.fillna(method='ffill',inplace=True)\n",
    "    train,test=train_test_split(gdf,split_fraction,['PM2.5'])\n",
    "    X_train,y_train=create_batch(train,past,future)\n",
    "    X_test,y_test=create_batch(test,past,future)\n",
    "    X_train_datasets.append(X_train)\n",
    "    y_train_datasets.append(y_train)\n",
    "    X_test_datasets.append(X_test)\n",
    "    y_test_datasets.append(y_test)\n",
    "    dataset_names.append(item_id)\n",
    "X_train_datasets=np.stack(X_train_datasets,axis=0)\n",
    "y_train_datasets=np.stack(y_train_datasets,axis=0)\n",
    "X_test_datasets=np.stack(X_test_datasets,axis=0)\n",
    "y_test_datasets=np.stack(y_test_datasets,axis=0)"
   ]
  },
  {
   "cell_type": "code",
   "execution_count": 56,
   "metadata": {},
   "outputs": [],
   "source": [
    "import jax \n",
    "import jax.numpy as jnp \n",
    "\n",
    "def get_dataloader(X,y,batch_size,key,axis=0):\n",
    "    num_train=X.shape[axis]\n",
    "    indices = jnp.array(list(range(0,num_train)))\n",
    "    indices=jax.random.permutation(key,indices)\n",
    "    for i in range(0, len(indices),batch_size):\n",
    "        batch_indices = jnp.array(indices[i: i+batch_size])\n",
    "        yield X[:,batch_indices,:], y[:,batch_indices]"
   ]
  },
  {
   "cell_type": "code",
   "execution_count": 74,
   "metadata": {},
   "outputs": [],
   "source": [
    "import optax\n",
    "from flax import linen as nn\n",
    "from functools import partial\n",
    "import distrax\n",
    "\n",
    "class LSTM(nn.Module):\n",
    "\n",
    "    @nn.remat    \n",
    "    @nn.compact   \n",
    "    def __call__(self, X_batch):\n",
    "        carry,x=nn.RNN(nn.LSTMCell(128),return_carry=True)(X_batch)\n",
    "        x=nn.Dense(1)(x)\n",
    "        return x[:,-1,:]\n",
    "    \n",
    "\n",
    "def reparameterize(params):\n",
    "    mu = params['mu']\n",
    "    sigma = jax.tree_map(lambda p : jnp.exp(0.5*p),params['log_std'])\n",
    "    eps = params['eps']\n",
    "    model_params = jax.tree_map(lambda m,e,s : m+e*s,mu,eps,sigma)\n",
    "    return model_params\n",
    "\n",
    "def log_likelihood(params, x, y):\n",
    "    model_params=reparameterize(params)\n",
    "    preds = jax.vmap(model.apply, (0, 0))(model_params, jnp.array(x[:,:,:,np.newaxis]))\n",
    "    return jnp.mean(optax.l2_loss(y,preds).sum(axis=-1))\n",
    "\n",
    "def log_prior(params):\n",
    "    def flatten(params):\n",
    "        squared=jax.tree_map(lambda p: distrax.Normal(0.0,1.0).log_prob(p).sum(), params)\n",
    "        flattten_squared=jnp.sum(jnp.stack(jax.tree_util.tree_leaves(squared['params'])))\n",
    "        return flattten_squared\n",
    "    squared_mu=flatten(params['mu'])\n",
    "    squared_noise=flatten(params['eps'])\n",
    "    squared_std=flatten(params['log_std'])\n",
    "    return squared_std+squared_noise+squared_mu\n",
    "\n",
    "def log_post(params,batch,labels):\n",
    "    n_data=batch.shape[0]\n",
    "    return -1./n_data*(log_prior(params) + log_likelihood(params,batch,labels))\n",
    "\n",
    "grad_log_post=jax.jit(jax.grad(log_post))"
   ]
  },
  {
   "cell_type": "code",
   "execution_count": 76,
   "metadata": {},
   "outputs": [],
   "source": [
    "@partial(jax.jit, static_argnums=(3,4))\n",
    "def sgld_kernel_momemtum(key, params, momemtum,grad_log_post, dt, X, y_data):\n",
    "    gamma,eps=0.9,1e-6\n",
    "    key, subkey = jax.random.split(key, 2)\n",
    "    grads = grad_log_post(params, X, y_data)\n",
    "    squared_grads=jax.tree_map(lambda g: jnp.square(g),grads)\n",
    "    momemtum=jax.tree_map(lambda m,s : gamma*m+(1-gamma)*s,momemtum,squared_grads)\n",
    "    noise=jax.tree_map(lambda p: jax.random.normal(key=subkey,shape=p.shape), params)\n",
    "    params=jax.tree_map(lambda p, g,m,n: p-0.5*dt*g/(m+eps)+jnp.sqrt(dt)*n, params, grads,momemtum,noise)\n",
    "    return key, params,momemtum\n",
    "\n",
    "def sgld(key,log_post, grad_log_post, num_samples,\n",
    "                             dt, x_0,X_train_datasets,y_train_datasets,batch_size,\n",
    "                             test_data=None):\n",
    "    samples = list()\n",
    "    loss=list()\n",
    "    param = x_0\n",
    "    key_data, key_model = jax.random.split(key, 2)\n",
    "    momemtum=jax.tree_map(lambda p:jnp.zeros_like(p),param)\n",
    "    key_data_batch=jax.random.split(key_data, num_samples)\n",
    "    for i in range(num_samples):\n",
    "        train_data=get_dataloader(X_train_datasets,y_train_datasets,batch_size,key_data_batch[i],axis=1)\n",
    "        for _,(X_batch, y_batch) in enumerate(train_data):\n",
    "            key_model,param,momemtum = sgld_kernel_momemtum(key_model, param,momemtum, grad_log_post, dt, X_batch, y_batch)\n",
    "        loss.append(log_post(param,X_batch,y_batch))\n",
    "        samples.append(param)\n",
    "        if (i%(num_samples//10)==0):\n",
    "            print('iteration {0}, loss {1:.2f}'.format(i,loss[-1]))\n",
    "    return samples,loss\n",
    "\n"
   ]
  },
  {
   "cell_type": "code",
   "execution_count": 77,
   "metadata": {},
   "outputs": [],
   "source": [
    "key=jax.random.PRNGKey(0)\n",
    "key_model,key_data=jax.random.split(key,2)\n",
    "batch_size=256"
   ]
  },
  {
   "cell_type": "code",
   "execution_count": 80,
   "metadata": {},
   "outputs": [],
   "source": [
    "model=LSTM()\n",
    "n_groups=X_train_datasets.shape[0]\n",
    "inputs = jax.random.randint(key_data,(batch_size,past,1),0, 10,).astype(jnp.float32)"
   ]
  },
  {
   "cell_type": "code",
   "execution_count": 81,
   "metadata": {},
   "outputs": [],
   "source": [
    "key_model_init, key_state_init = jax.random.split(key_model, 2)\n",
    "key_params_mu,key_params_sigma,key_params_eps=jax.random.split(key_model_init,3)\n",
    "key_tasks=jax.random.split(key_params_eps,n_groups)\n",
    "\n",
    "params_noise = jax.vmap(model.init, (0, None))(key_tasks, inputs)\n",
    "params_mu=model.init(key_params_mu,inputs)\n",
    "params_sigma=jax.tree_map(lambda p: distrax.Normal(0.0,1.0).sample(seed=key_params_sigma,sample_shape=(1,)),params_mu)\n",
    "\n",
    "\n",
    "params_pooled = {\n",
    "        'mu': params_mu,\n",
    "        'eps': params_noise,\n",
    "        'log_std': params_sigma,\n",
    "    }"
   ]
  },
  {
   "cell_type": "code",
   "execution_count": 82,
   "metadata": {},
   "outputs": [
    {
     "name": "stdout",
     "output_type": "stream",
     "text": [
      "iteration 0, loss 0.08\n",
      "iteration 1, loss 0.02\n",
      "iteration 2, loss 0.02\n",
      "iteration 3, loss 0.03\n",
      "iteration 4, loss 0.02\n",
      "iteration 5, loss 0.03\n",
      "iteration 6, loss 0.02\n",
      "iteration 7, loss 0.04\n",
      "iteration 8, loss 0.04\n",
      "iteration 9, loss 0.02\n"
     ]
    }
   ],
   "source": [
    "dt=1e-5\n",
    "samples,loss=sgld(key_data,log_likelihood, grad_log_post, 10,\n",
    "                             dt, params_pooled,X_train_datasets,y_train_datasets,\n",
    "                             batch_size,test_data=None)"
   ]
  },
  {
   "cell_type": "code",
   "execution_count": 83,
   "metadata": {},
   "outputs": [],
   "source": [
    "X_test=X_test_datasets[:,:,:,np.newaxis]\n",
    "model_params=reparameterize(samples[-1])\n",
    "preds=jax.vmap(model.apply, (0, 0))(model_params, X_test)"
   ]
  },
  {
   "cell_type": "code",
   "execution_count": 84,
   "metadata": {},
   "outputs": [
    {
     "name": "stdout",
     "output_type": "stream",
     "text": [
      "task : Aotizhongxin, RMSE : 0.05, MAE :0.13, R2 :0.95\n",
      "task : Changping, RMSE : 0.07, MAE :0.13, R2 :0.93\n",
      "task : Dingling, RMSE : 0.05, MAE :0.12, R2 :0.94\n",
      "task : Dongsi, RMSE : 0.06, MAE :0.13, R2 :0.94\n",
      "task : Guanyuan, RMSE : 0.06, MAE :0.13, R2 :0.94\n",
      "task : Gucheng, RMSE : 0.07, MAE :0.13, R2 :0.94\n",
      "task : Huairou, RMSE : 0.06, MAE :0.11, R2 :0.94\n",
      "task : Nongzhanguan, RMSE : 0.05, MAE :0.12, R2 :0.95\n",
      "task : Shunyi, RMSE : 0.06, MAE :0.12, R2 :0.94\n",
      "task : Tiantan, RMSE : 0.05, MAE :0.13, R2 :0.95\n",
      "task : Wanliu, RMSE : 0.05, MAE :0.12, R2 :0.95\n",
      "task : Wanshouxigong, RMSE : 0.07, MAE :0.13, R2 :0.94\n"
     ]
    }
   ],
   "source": [
    "from sklearn import metrics\n",
    "\n",
    "for i in range(n_groups):\n",
    "    r_squared=metrics.r2_score(preds[i,:,:],y_test_datasets[i,:,:])\n",
    "    rmse=metrics.mean_squared_error(preds[i,:,:],y_test_datasets[i,:,:],squared=True)\n",
    "    mae=metrics.mean_absolute_error(preds[i,:,:],y_test_datasets[i,:,:])\n",
    "    print('task : {0}, RMSE : {1:1.2f}, MAE :{2:1.2f}, R2 :{3:1.2f}'.format(dataset_names[i],rmse,mae,r_squared))"
   ]
  },
  {
   "cell_type": "code",
   "execution_count": 85,
   "metadata": {},
   "outputs": [
    {
     "data": {
      "text/plain": [
       "dict_keys(['eps', 'log_std', 'mu'])"
      ]
     },
     "execution_count": 85,
     "metadata": {},
     "output_type": "execute_result"
    }
   ],
   "source": [
    "samples[-1].keys()"
   ]
  },
  {
   "cell_type": "code",
   "execution_count": 86,
   "metadata": {},
   "outputs": [
    {
     "data": {
      "text/plain": [
       "{'params': {'Dense_0': {'bias': (1,), 'kernel': (32, 1)},\n",
       "  'LSTMCell_0': {'hf': {'bias': (32,), 'kernel': (32, 32)},\n",
       "   'hg': {'bias': (32,), 'kernel': (32, 32)},\n",
       "   'hi': {'bias': (32,), 'kernel': (32, 32)},\n",
       "   'ho': {'bias': (32,), 'kernel': (32, 32)},\n",
       "   'if': {'kernel': (1, 32)},\n",
       "   'ig': {'kernel': (1, 32)},\n",
       "   'ii': {'kernel': (1, 32)},\n",
       "   'io': {'kernel': (1, 32)}}}}"
      ]
     },
     "execution_count": 86,
     "metadata": {},
     "output_type": "execute_result"
    }
   ],
   "source": [
    "jax.tree_map(jnp.shape,samples[-1]['mu'])"
   ]
  },
  {
   "cell_type": "code",
   "execution_count": 87,
   "metadata": {},
   "outputs": [
    {
     "data": {
      "text/plain": [
       "{'params': {'Dense_0': {'bias': (1,), 'kernel': (1,)},\n",
       "  'LSTMCell_0': {'hf': {'bias': (1,), 'kernel': (1,)},\n",
       "   'hg': {'bias': (1,), 'kernel': (1,)},\n",
       "   'hi': {'bias': (1,), 'kernel': (1,)},\n",
       "   'ho': {'bias': (1,), 'kernel': (1,)},\n",
       "   'if': {'kernel': (1,)},\n",
       "   'ig': {'kernel': (1,)},\n",
       "   'ii': {'kernel': (1,)},\n",
       "   'io': {'kernel': (1,)}}}}"
      ]
     },
     "execution_count": 87,
     "metadata": {},
     "output_type": "execute_result"
    }
   ],
   "source": [
    "jax.tree_map(jnp.shape,samples[-1]['log_std'])"
   ]
  },
  {
   "cell_type": "code",
   "execution_count": 88,
   "metadata": {},
   "outputs": [
    {
     "data": {
      "text/plain": [
       "{'params': {'Dense_0': {'bias': (12, 1), 'kernel': (12, 32, 1)},\n",
       "  'LSTMCell_0': {'hf': {'bias': (12, 32), 'kernel': (12, 32, 32)},\n",
       "   'hg': {'bias': (12, 32), 'kernel': (12, 32, 32)},\n",
       "   'hi': {'bias': (12, 32), 'kernel': (12, 32, 32)},\n",
       "   'ho': {'bias': (12, 32), 'kernel': (12, 32, 32)},\n",
       "   'if': {'kernel': (12, 1, 32)},\n",
       "   'ig': {'kernel': (12, 1, 32)},\n",
       "   'ii': {'kernel': (12, 1, 32)},\n",
       "   'io': {'kernel': (12, 1, 32)}}}}"
      ]
     },
     "execution_count": 88,
     "metadata": {},
     "output_type": "execute_result"
    }
   ],
   "source": [
    "jax.tree_map(jnp.shape,samples[-1]['eps'])"
   ]
  },
  {
   "cell_type": "code",
   "execution_count": 89,
   "metadata": {},
   "outputs": [],
   "source": [
    "ensemble_pred=list()\n",
    "for i in range(len(samples)):\n",
    "    model_params=reparameterize(samples[i])\n",
    "    preds=jax.vmap(model.apply, (0, 0))(model_params, X_test)\n",
    "    ensemble_pred.append(preds)"
   ]
  },
  {
   "cell_type": "code",
   "execution_count": 90,
   "metadata": {},
   "outputs": [],
   "source": [
    "ensemble_pred=np.stack(ensemble_pred,axis=2)"
   ]
  },
  {
   "cell_type": "code",
   "execution_count": 91,
   "metadata": {},
   "outputs": [],
   "source": [
    "mean_pred=np.mean(ensemble_pred,axis=2)\n",
    "std_pred=np.std(ensemble_pred,axis=2)"
   ]
  },
  {
   "cell_type": "code",
   "execution_count": 92,
   "metadata": {},
   "outputs": [
    {
     "data": {
      "image/png": "[encoded data removed]",
      "text/plain": [
       "<Figure size 864x864 with 3 Axes>"
      ]
     },
     "metadata": {
      "needs_background": "light"
     },
     "output_type": "display_data"
    }
   ],
   "source": [
    "fig, (ax1, ax2, ax3) = plt.subplots(3, 1, sharex=True, figsize=(12, 12))\n",
    "\n",
    "names=np.ravel(gdf.index[0:23].to_frame().values)\n",
    "ax1.plot(names,y_test_datasets[0,:23,:], linewidth=2,color=\"black\")\n",
    "ax1.plot(names,mean_pred[0,1:24,:], linewidth=2)\n",
    "ax1.fill_between(names,np.ravel(mean_pred[0,1:24,:]-std_pred[0,1:24,:]),np.ravel(mean_pred[0,1:24,:]+std_pred[0,1:24,:]),alpha=0.2)\n",
    "ax1.set_xlabel('Time')\n",
    "ax1.set_ylabel('PM2.5')\n",
    "ax1.legend(dataset_names[0], loc=\"upper left\", fontsize=\"xx-large\")\n",
    "ax1.grid(True)\n",
    "\n",
    "ax2.plot(names,y_test_datasets[1,:23,:], linewidth=2,color=\"black\")\n",
    "ax2.plot(names,mean_pred[2,1:24,:], linewidth=2)\n",
    "ax2.fill_between(names,np.ravel(mean_pred[1,1:24,:]-std_pred[1,1:24,:]),np.ravel(mean_pred[1,1:24,:]+std_pred[1,1:24,:]),alpha=0.2)\n",
    "ax2.set_xlabel('Time')\n",
    "ax2.set_ylabel('PM2.5')\n",
    "ax1.set_title(dataset_names[1])\n",
    "ax2.grid(True)\n",
    "\n",
    "ax3.plot(names,y_test_datasets[2,:23,:], linewidth=2,color=\"black\")\n",
    "ax3.plot(names,mean_pred[2,1:24,:], linewidth=2)\n",
    "ax3.fill_between(names,np.ravel(mean_pred[2,1:24,:]-std_pred[2,1:24,:]),np.ravel(mean_pred[2,1:24,:]+std_pred[2,1:24,:]),alpha=0.2)\n",
    "ax3.set_xlabel('Time')\n",
    "ax3.set_ylabel('PM2.5')\n",
    "ax1.set_title(dataset_names[2])\n",
    "ax3.grid(True)\n",
    "\n",
    "fig.autofmt_xdate()"
   ]
  },
  {
   "cell_type": "code",
   "execution_count": 452,
   "metadata": {},
   "outputs": [],
   "source": [
    "class SimpleLSTM(nn.Module):\n",
    "  features: int\n",
    "\n",
    "  def setup(self):\n",
    "    self.scan_cell = nn.transforms.scan(\n",
    "      nn.OptimizedLSTMCell,\n",
    "      variable_broadcast='params',\n",
    "      in_axes=1, out_axes=1,\n",
    "      split_rngs={'params': False})(self.features)\n",
    "\n",
    "  @nn.compact\n",
    "  def __call__(self, x):\n",
    "    carry = self.scan_cell.initialize_carry(jax.random.PRNGKey(0), x[:, 0].shape)\n",
    "    x=self.scan_cell(carry, x)[1]  # only return the output\n",
    "    x=nn.Dense(1)(x)\n",
    "    return x[:,-1,:]"
   ]
  },
  {
   "cell_type": "code",
   "execution_count": 453,
   "metadata": {},
   "outputs": [],
   "source": [
    "fake_data=jnp.arange(0,8*2)\n",
    "norm_fake_data=(fake_data-fake_data.mean())/fake_data.std()"
   ]
  },
  {
   "cell_type": "code",
   "execution_count": 454,
   "metadata": {},
   "outputs": [],
   "source": [
    "x_fake,y_fake=create_batch(pd.DataFrame(norm_fake_data),6,1)\n",
    "y_fake=y_fake.astype(float)"
   ]
  },
  {
   "cell_type": "code",
   "execution_count": 455,
   "metadata": {},
   "outputs": [
    {
     "name": "stdout",
     "output_type": "stream",
     "text": [
      "[-1.6269784  -1.410048   -1.1931175  -0.97618705 -0.7592566  -0.54232615] [-0.32539567]\n",
      "[-1.410048   -1.1931175  -0.97618705 -0.7592566  -0.54232615 -0.32539567] [-0.10846523]\n",
      "[-1.1931175  -0.97618705 -0.7592566  -0.54232615 -0.32539567 -0.10846523] [0.10846523]\n",
      "[-0.97618705 -0.7592566  -0.54232615 -0.32539567 -0.10846523  0.10846523] [0.32539567]\n",
      "[-0.7592566  -0.54232615 -0.32539567 -0.10846523  0.10846523  0.32539567] [0.54232615]\n",
      "[-0.54232615 -0.32539567 -0.10846523  0.10846523  0.32539567  0.54232615] [0.7592566]\n",
      "[-0.32539567 -0.10846523  0.10846523  0.32539567  0.54232615  0.7592566 ] [0.97618705]\n",
      "[-0.10846523  0.10846523  0.32539567  0.54232615  0.7592566   0.97618705] [1.1931175]\n",
      "[0.10846523 0.32539567 0.54232615 0.7592566  0.97618705 1.1931175 ] [1.41004801]\n",
      "[0.32539567 0.54232615 0.7592566  0.97618705 1.1931175  1.410048  ] [1.6269784]\n"
     ]
    }
   ],
   "source": [
    "for xx,yy in zip(x_fake,y_fake):\n",
    "    print(xx,yy)"
   ]
  },
  {
   "cell_type": "code",
   "execution_count": 456,
   "metadata": {},
   "outputs": [],
   "source": [
    "simple_model=SimpleLSTM(8)\n",
    "fake_key=jax.random.PRNGKey(0)\n",
    "params=simple_model.init(fake_key,x_fake[:,:,np.newaxis])"
   ]
  },
  {
   "cell_type": "code",
   "execution_count": 462,
   "metadata": {},
   "outputs": [],
   "source": [
    "import optax \n",
    "\n",
    "start_learning_rate = 1e-1\n",
    "optimizer = optax.adam(start_learning_rate)\n",
    "opt_state = optimizer.init(params)"
   ]
  },
  {
   "cell_type": "code",
   "execution_count": 463,
   "metadata": {},
   "outputs": [],
   "source": [
    "def compute_loss(params,x,y):\n",
    "    y_pred=simple_model.apply(params,x)\n",
    "    return jnp.mean(optax.l2_loss(y,y_pred).sum(axis=-1))"
   ]
  },
  {
   "cell_type": "code",
   "execution_count": 464,
   "metadata": {},
   "outputs": [
    {
     "name": "stdout",
     "output_type": "stream",
     "text": [
      "0.6247378\n",
      "0.009109193\n",
      "0.0045157894\n",
      "0.0014280126\n",
      "0.0005189054\n",
      "0.0003519251\n",
      "0.00023095577\n",
      "0.000114046175\n",
      "6.665256e-05\n",
      "4.2850486e-05\n"
     ]
    }
   ],
   "source": [
    "# A simple update loop.\n",
    "for i in range(100):\n",
    "  loss,grads = jax.value_and_grad(compute_loss)(params, x_fake[:,:,np.newaxis], y_fake)\n",
    "  updates, opt_state = optimizer.update(grads, opt_state)\n",
    "  params = optax.apply_updates(params, updates)\n",
    "  if (i%10==0):\n",
    "    print(loss)\n"
   ]
  },
  {
   "cell_type": "code",
   "execution_count": 466,
   "metadata": {},
   "outputs": [],
   "source": [
    "y_pred=simple_model.apply(params,x_fake[:,:,np.newaxis])"
   ]
  },
  {
   "cell_type": "code",
   "execution_count": 467,
   "metadata": {},
   "outputs": [
    {
     "name": "stdout",
     "output_type": "stream",
     "text": [
      "[6.001205] [6.]\n",
      "[6.9890814] [7.]\n",
      "[8.013878] [8.]\n",
      "[8.988622] [9.]\n",
      "[9.989714] [10.]\n",
      "[11.012798] [11.]\n",
      "[11.999681] [12.]\n",
      "[12.941533] [13.]\n",
      "[14.07038] [14.]\n",
      "[14.950382] [15.]\n"
     ]
    }
   ],
   "source": [
    "for yz,yy in zip(y_pred,y_fake):\n",
    "    print(fake_data.std()*yz+fake_data.mean(),fake_data.std()*yy+fake_data.mean())"
   ]
  }
 ],
 "metadata": {
  "kernelspec": {
   "display_name": "tf",
   "language": "python",
   "name": "python3"
  },
  "language_info": {
   "codemirror_mode": {
    "name": "ipython",
    "version": 3
   },
   "file_extension": ".py",
   "mimetype": "text/x-python",
   "name": "python",
   "nbconvert_exporter": "python",
   "pygments_lexer": "ipython3",
   "version": "3.8.17"
  },
  "orig_nbformat": 4
 },
 "nbformat": 4,
 "nbformat_minor": 2
}
